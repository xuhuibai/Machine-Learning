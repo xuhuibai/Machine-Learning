{
 "cells": [
  {
   "cell_type": "markdown",
   "metadata": {},
   "source": [
    "## Problem Set 2 - Xuhui Bai"
   ]
  },
  {
   "cell_type": "markdown",
   "metadata": {},
   "source": [
    "### Function set up"
   ]
  },
  {
   "cell_type": "code",
   "execution_count": 1,
   "metadata": {},
   "outputs": [],
   "source": [
    "def covidData(Nsamp):\n",
    "    # Set seed so we all have the same data\n",
    "    np.random.seed(11)\n",
    "    # age as a uniform value [0,1]\n",
    "    age = np.random.uniform(low=0.0,high=1.0,size=Nsamp)\n",
    "    # Smoke?\n",
    "    smoke = np.random.randint(low=0,high=2,size=Nsamp)\n",
    "    # number of smokers and nonsmokers\n",
    "    nSmoke = np.sum(smoke)\n",
    "    nnSmoke = Nsamp - nSmoke\n",
    "    death = np.zeros(Nsamp,dtype=int)\n",
    "    # Death prob = 0.5 if you don't smoke\n",
    "    death[smoke==0] = (np.random.uniform(size=nnSmoke)<0.5)\n",
    "    # If you do smoke, then it depends quadratically on age\n",
    "    death[smoke==1] = (np.random.uniform(size=(nSmoke))<3./2.*age[smoke==1]**2)\n",
    "    # stack predictor variables in matrix\n",
    "    xPredict = np.stack((age,smoke),axis=1)\n",
    "    return xPredict, death"
   ]
  },
  {
   "cell_type": "code",
   "execution_count": 2,
   "metadata": {},
   "outputs": [],
   "source": [
    "# A function to automate MC experiments\n",
    "def MCtraintest(nmc,X,y,modelObj,testFrac):\n",
    "    trainScore = np.zeros(nmc)\n",
    "    testScore  = np.zeros(nmc)\n",
    "    for i in range(nmc):\n",
    "        X_train, X_test, y_train, y_test = train_test_split(X,y,test_size=testFrac)\n",
    "        modelObj.fit(X_train,y_train)\n",
    "        trainScore[i] = modelObj.score(X_train,y_train)\n",
    "        testScore[i]  = modelObj.score(X_test,y_test)\n",
    "    return (trainScore,testScore)"
   ]
  },
  {
   "cell_type": "markdown",
   "metadata": {},
   "source": [
    "### 1. Generate a sample with 100 data points using covidData. What is the mean for the death rate overall, for smokers, and for nonsmokers."
   ]
  },
  {
   "cell_type": "code",
   "execution_count": 3,
   "metadata": {},
   "outputs": [
    {
     "name": "stdout",
     "output_type": "stream",
     "text": [
      "The mean for death rate overall: 0.540\n",
      "The mean for death rate for smoker: 0.585\n",
      "The mean for death rate for non-smoker: 0.489\n"
     ]
    }
   ],
   "source": [
    "import numpy as np\n",
    "\n",
    "\n",
    "dataset = covidData(100)\n",
    "print(\"The mean for death rate overall: {:.3f}\".format(dataset[-1].mean()))\n",
    "print(\"The mean for death rate for smoker: {:.3f}\".format(dataset[-1][dataset[0][:,1]==1].mean()))\n",
    "print(\"The mean for death rate for non-smoker: {:.3f}\".format(dataset[-1][dataset[0][:,1]==0].mean()))\n"
   ]
  },
  {
   "cell_type": "markdown",
   "metadata": {},
   "source": [
    "### 2. First set up code to evaluate a nearest neighbor classification system. Plot the training and test set mean score (accuracy) from a 250 length monte-carlo simulation. Set the test set at 0.25 of the total sample. Do this for various neighbor sizes from 1 to 30. What looks like the optimal neighbor size for test data?"
   ]
  },
  {
   "cell_type": "code",
   "execution_count": 7,
   "metadata": {},
   "outputs": [
    {
     "name": "stdout",
     "output_type": "stream",
     "text": [
      "The optimal neighbor size for test data is 5\n"
     ]
    },
    {
     "data": {
      "image/png": "[encoded data removed]",
      "text/plain": [
       "<Figure size 432x288 with 1 Axes>"
      ]
     },
     "metadata": {
      "needs_background": "light"
     },
     "output_type": "display_data"
    }
   ],
   "source": [
    "import sklearn\n",
    "import matplotlib.pyplot as plt\n",
    "from sklearn.neighbors import KNeighborsClassifier\n",
    "from sklearn.model_selection import train_test_split\n",
    "\n",
    "\n",
    "trainscore_set = []\n",
    "testscore_set = []\n",
    "neighbors_settings = range(1, 31)\n",
    "for size in neighbors_settings:\n",
    "    knn = KNeighborsClassifier(n_neighbors=size)\n",
    "    trainscore_set.append(MCtraintest(250, dataset[0], dataset[1], knn, 0.25)[0].mean())\n",
    "    testscore_set.append(MCtraintest(250, dataset[0], dataset[1], knn, 0.25)[1].mean())\n",
    "    \n",
    "\n",
    "plt.plot(neighbors_settings, trainscore_set, label=\"training accuracy\") \n",
    "plt.plot(neighbors_settings, testscore_set, label=\"test accuracy\") \n",
    "plt.ylabel(\"Accuracy\")\n",
    "plt.xlabel(\"n_neighbors\")\n",
    "plt.legend()\n",
    "\n",
    "print(\"The optimal neighbor size for test data is {}\".format(testscore_set.index(max(testscore_set))+1))"
   ]
  },
  {
   "cell_type": "markdown",
   "metadata": {},
   "source": [
    "### 3. What is the score for the training sample with one neighbor?"
   ]
  },
  {
   "cell_type": "code",
   "execution_count": 5,
   "metadata": {},
   "outputs": [
    {
     "name": "stdout",
     "output_type": "stream",
     "text": [
      "The score for the training sample with one neighbor is 1.000\n"
     ]
    }
   ],
   "source": [
    "print(\"The score for the training sample with one neighbor is {:.3f}\".format(trainscore_set[0]))"
   ]
  },
  {
   "cell_type": "markdown",
   "metadata": {},
   "source": [
    "### 4. Find the mean training and test classification accuracy for a logistic regression on the same data. You do not know how to do this in Scikit learn, but it is easy. The function logisticRegression() sets up the logistic regression in the same way as the nearest neighbor classification. Use this with the default parameters. Run this for the same monte-carlo specification as before (no need to sweep through parameters). Report the mean for training and test set scores."
   ]
  },
  {
   "cell_type": "code",
   "execution_count": 6,
   "metadata": {},
   "outputs": [
    {
     "name": "stdout",
     "output_type": "stream",
     "text": [
      "The mean of accuracy for training data is 0.681\n",
      "The mean of accuracy for testing data is 0.662\n"
     ]
    }
   ],
   "source": [
    "from sklearn.linear_model import LogisticRegression\n",
    "from sklearn.model_selection import train_test_split\n",
    "\n",
    "\n",
    "lr = LogisticRegression(solver='lbfgs') ## To avoid the FutureWarning message\n",
    "train_mean,test_mean= MCtraintest(250, dataset[0], dataset[1], lr, 0.25)\n",
    "print(\"The mean of accuracy for training data is {:.3f}\".format(train_mean.mean()))\n",
    "print(\"The mean of accuracy for testing data is {:.3f}\".format(test_mean.mean()))\n"
   ]
  }
 ],
 "metadata": {
  "kernelspec": {
   "display_name": "Python 3",
   "language": "python",
   "name": "python3"
  },
  "language_info": {
   "codemirror_mode": {
    "name": "ipython",
    "version": 3
   },
   "file_extension": ".py",
   "mimetype": "text/x-python",
   "name": "python",
   "nbconvert_exporter": "python",
   "pygments_lexer": "ipython3",
   "version": "3.7.4"
  }
 },
 "nbformat": 4,
 "nbformat_minor": 2
}
